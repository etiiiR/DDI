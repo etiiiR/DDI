{
 "cells": [
  {
   "cell_type": "code",
   "execution_count": 4,
   "metadata": {},
   "outputs": [
    {
     "name": "stdout",
     "output_type": "stream",
     "text": [
      "Requirement already satisfied: aioarango in c:\\users\\super\\appdata\\local\\programs\\python\\python310\\lib\\site-packages (1.0.0)\n",
      "Requirement already satisfied: PyJWT<3.0.0,>=2.1.0 in c:\\users\\super\\appdata\\local\\programs\\python\\python310\\lib\\site-packages (from aioarango) (2.6.0)\n",
      "Requirement already satisfied: requests-toolbelt<0.10.0,>=0.9.1 in c:\\users\\super\\appdata\\local\\programs\\python\\python310\\lib\\site-packages (from aioarango) (0.9.1)\n",
      "Requirement already satisfied: httpx<0.19.0,>=0.18.2 in c:\\users\\super\\appdata\\local\\programs\\python\\python310\\lib\\site-packages (from aioarango) (0.18.2)\n",
      "Requirement already satisfied: sniffio in c:\\users\\super\\appdata\\local\\programs\\python\\python310\\lib\\site-packages (from httpx<0.19.0,>=0.18.2->aioarango) (1.3.0)\n",
      "Requirement already satisfied: rfc3986[idna2008]<2,>=1.3 in c:\\users\\super\\appdata\\local\\programs\\python\\python310\\lib\\site-packages (from httpx<0.19.0,>=0.18.2->aioarango) (1.5.0)\n",
      "Requirement already satisfied: certifi in c:\\users\\super\\appdata\\local\\programs\\python\\python310\\lib\\site-packages (from httpx<0.19.0,>=0.18.2->aioarango) (2022.6.15)\n",
      "Requirement already satisfied: httpcore<0.14.0,>=0.13.3 in c:\\users\\super\\appdata\\local\\programs\\python\\python310\\lib\\site-packages (from httpx<0.19.0,>=0.18.2->aioarango) (0.13.7)\n",
      "Requirement already satisfied: requests<3.0.0,>=2.0.1 in c:\\users\\super\\appdata\\local\\programs\\python\\python310\\lib\\site-packages (from requests-toolbelt<0.10.0,>=0.9.1->aioarango) (2.27.1)\n",
      "Requirement already satisfied: h11<0.13,>=0.11 in c:\\users\\super\\appdata\\local\\programs\\python\\python310\\lib\\site-packages (from httpcore<0.14.0,>=0.13.3->httpx<0.19.0,>=0.18.2->aioarango) (0.12.0)\n",
      "Requirement already satisfied: anyio==3.* in c:\\users\\super\\appdata\\local\\programs\\python\\python310\\lib\\site-packages (from httpcore<0.14.0,>=0.13.3->httpx<0.19.0,>=0.18.2->aioarango) (3.6.2)\n",
      "Requirement already satisfied: idna>=2.8 in c:\\users\\super\\appdata\\local\\programs\\python\\python310\\lib\\site-packages (from anyio==3.*->httpcore<0.14.0,>=0.13.3->httpx<0.19.0,>=0.18.2->aioarango) (3.3)\n",
      "Requirement already satisfied: charset-normalizer~=2.0.0 in c:\\users\\super\\appdata\\local\\programs\\python\\python310\\lib\\site-packages (from requests<3.0.0,>=2.0.1->requests-toolbelt<0.10.0,>=0.9.1->aioarango) (2.0.12)\n",
      "Requirement already satisfied: urllib3<1.27,>=1.21.1 in c:\\users\\super\\appdata\\local\\programs\\python\\python310\\lib\\site-packages (from requests<3.0.0,>=2.0.1->requests-toolbelt<0.10.0,>=0.9.1->aioarango) (1.26.11)\n",
      "Note: you may need to restart the kernel to use updated packages.\n"
     ]
    },
    {
     "name": "stderr",
     "output_type": "stream",
     "text": [
      "\n",
      "[notice] A new release of pip available: 22.2.2 -> 22.3.1\n",
      "[notice] To update, run: python.exe -m pip install --upgrade pip\n"
     ]
    },
    {
     "name": "stdout",
     "output_type": "stream",
     "text": [
      "Requirement already satisfied: python-dotenv in c:\\users\\super\\appdata\\local\\programs\\python\\python310\\lib\\site-packages (0.21.0)\n",
      "Note: you may need to restart the kernel to use updated packages.\n"
     ]
    },
    {
     "name": "stderr",
     "output_type": "stream",
     "text": [
      "\n",
      "[notice] A new release of pip available: 22.2.2 -> 22.3.1\n",
      "[notice] To update, run: python.exe -m pip install --upgrade pip\n"
     ]
    }
   ],
   "source": [
    "%pip install aioarango\n",
    "%pip install python-dotenv"
   ]
  },
  {
   "cell_type": "code",
   "execution_count": 64,
   "metadata": {},
   "outputs": [
    {
     "name": "stdout",
     "output_type": "stream",
     "text": [
      "DDI2\n",
      "Welcome12\n",
      "DDI_MC2\n",
      "Database already exists\n",
      "Collection already exists users\n",
      "Collection already exists jwt_tokens\n",
      "Collection already exists books\n",
      "name 'books' is not defined\n",
      "name 'books' is not defined\n",
      "name 'books' is not defined\n",
      "name 'books' is not defined\n",
      "name 'books' is not defined\n",
      "name 'books' is not defined\n",
      "name 'books' is not defined\n",
      "name 'books' is not defined\n",
      "name 'books' is not defined\n",
      "name 'books' is not defined\n",
      "name 'books' is not defined\n"
     ]
    },
    {
     "name": "stderr",
     "output_type": "stream",
     "text": [
      "c:\\Users\\super\\AppData\\Local\\Programs\\Python\\Python310\\lib\\site-packages\\httpx\\_client.py:1978: UserWarning: Unclosed <httpx.AsyncClient object at 0x000002035F1A7C70>. See https://www.python-httpx.org/async/#opening-and-closing-clients for details.\n",
      "  warnings.warn(\n"
     ]
    }
   ],
   "source": [
    "from aioarango import ArangoClient\n",
    "import os\n",
    "from dotenv import load_dotenv\n",
    "from aioarango import errno, DocumentInsertError\n",
    "\n",
    "load_dotenv()\n",
    "\n",
    "username_arango = os.getenv('arango_username')\n",
    "password_arango = os.getenv('arango_password')\n",
    "database_arango = os.getenv('arango_database')\n",
    "sys_username_arango = os.getenv('sys_username_arango')\n",
    "sys_password_arango = os.getenv('sys_password_arango')\n",
    "\n",
    "print(username_arango)\n",
    "print(password_arango)\n",
    "print(database_arango)\n",
    "\n",
    "client = ArangoClient(hosts=\"https://arangodb.roulet.dev\")\n",
    "\n",
    "# Connect to \"_system\" database as root user.\n",
    "sys_db = await client.db(\"_system\", username=str(sys_username_arango), password=str(sys_password_arango))\n",
    "\n",
    "# Create a new database named \"DDI_MC2\".\n",
    "try:\n",
    "    await sys_db.create_database(\"DDI_MC2\")\n",
    "except Exception as exc:\n",
    "    if (exc.error_code == errno.DUPLICATE_NAME):\n",
    "        print(\"Database already exists\")\n",
    "\n",
    "\n",
    "# Connect to \"test\" database as root user.\n",
    "db = await client.db(str(database_arango), username=str(username_arango), password=str(password_arango))\n",
    "\n",
    "# Create a new collection named \"students\".\n",
    "try:\n",
    "    users = await db.create_collection(\"users\")\n",
    "except Exception as e:\n",
    "    if (e.error_code == errno.DUPLICATE_NAME):\n",
    "        print(\"Collection already exists users\")\n",
    "        users = db.collection(\"users\")\n",
    "\n",
    "try:\n",
    "    jwt_tokens = await db.create_collection(\"jwt_tokens\")\n",
    "except Exception as e:\n",
    "    if (e.error_code == errno.DUPLICATE_NAME):\n",
    "        print(\"Collection already exists jwt_tokens\")\n",
    "        jwt_tokens = db.collection(\"jwt_tokens\")\n",
    "\n",
    "try:\n",
    "    books = await db.create_collection(\"books\")\n",
    "except Exception as e:\n",
    "    if (e.error_code == errno.DUPLICATE_NAME):\n",
    "        print(\"Collection already exists books\")\n",
    "        books = db.collection(\"movies\")\n",
    "\n",
    "\n",
    "user_model = [\n",
    "    {\n",
    "        \"name\": \"John\", \"age\": 25, \"email\": \"sample@gmail.com\", \"adress\": {\"street\": \"street 1\", \"city\": \"city 1\", \"country\": \"Germany\", \"zip\": \"550232\", \"phone\": \"04423233232\", \"mobile\": \"04423233232\", \"fax\": \"04423233232\", \"website\": \"www.sample.com\", \"company\": \"sample company\"}, \"role\": \"admin\", \"status\": \"active\", \"created_at\": \"2021-05-01 12:00:00\", \"updated_at\": \"2021-05-01 12:00:00\"\n",
    "    },\n",
    "]\n",
    "book_model = [\n",
    "    {\n",
    "        \"name\": \"Harry Potter\", \"author\": \"J.K. Rowling\", \"genre\": \"fantasy\", \"price\": \"10.00\", \"description\": \"The book is about\"\n",
    "    },\n",
    "    {\n",
    "      \"name\": \"Lord of the Rings\", \"author\": \"J.R.R. Tolkien\", \"genre\": \"fantasy\", \"price\": \"10.00\", \"description\": \"The book is about\"\n",
    "    },\n",
    "    { \"name\": \"The Hobbit\", \"author\": \"J.R.R. Tolkien\", \"genre\": \"fantasy\", \"price\": \"10.00\", \"description\": \"The book is about\" },\n",
    "    { \"name\": \"The Hitchhiker's Guide to the Galaxy\", \"author\": \"Douglas Adams\", \"genre\": \"fantasy\", \"price\": \"10.00\", \"description\": \"The book is about\" },\n",
    "    { \"name\": \"The Lion, the Witch and the Wardrobe\", \"author\": \"C.S. Lewis\", \"genre\": \"fantasy\", \"price\": \"10.00\", \"description\": \"The book is about\" },\n",
    "    { \"name\": \"The Da Vinci Code\", \"author\": \"Dan Brown\", \"genre\": \"fantasy\", \"price\": \"10.00\", \"description\": \"The book is about\" },\n",
    "    { \"name\": \"The Alchemist\", \"author\": \"Paulo Coelho\", \"genre\": \"fantasy\", \"price\": \"10.00\", \"description\": \"The book is about\" },\n",
    "    { \"name\": \"The Lord of the Rings\", \"author\": \"J.R.R. Tolkien\", \"genre\": \"fantasy\", \"price\": \"10.00\", \"description\": \"The book is about\" },\n",
    "    { \"name\": \"The Little Prince\", \"author\": \"Antoine de Saint-Exupéry\", \"genre\": \"fantasy\", \"price\": \"10.00\", \"description\": \"The book is about\" },\n",
    "    { \"name\": \"The Hobbit\", \"author\": \"J.R.R. Tolkien\", \"genre\": \"fantasy\", \"price\": \"10.00\", \"description\": \"The book is about\" },\n",
    "    { \"name\": \"The Hitchhiker's Guide to the Galaxy\", \"author\": \"Douglas Adams\", \"genre\": \"fantasy\", \"price\": \"10.00\", \"description\": \"The book is about\" },\n",
    "]\n",
    "\n",
    "for u in user_model:\n",
    "    try:\n",
    "        await users.insert(document=u, sync=True, return_new=True, silent=True, overwrite=True)\n",
    "    except Exception as e:\n",
    "        print(e)\n",
    "        \n",
    "for b in book_model:\n",
    "    try:\n",
    "        await books.insert(document=b, sync=True, return_new=True, silent=True, overwrite=True)\n",
    "    except Exception as e:\n",
    "        print(e)\n"
   ]
  },
  {
   "cell_type": "code",
   "execution_count": 32,
   "metadata": {},
   "outputs": [
    {
     "name": "stdout",
     "output_type": "stream",
     "text": [
      "['jane', 'josh', 'judy', 'John', 'Jane', 'Jack', 'Jill', 'Jenny']\n"
     ]
    }
   ],
   "source": [
    "cursor = await db.aql.execute(\"FOR u IN users RETURN u\")\n",
    "users = [document[\"name\"] async for document in cursor]\n",
    "print(users)"
   ]
  }
 ],
 "metadata": {
  "kernelspec": {
   "display_name": "Python 3",
   "language": "python",
   "name": "python3"
  },
  "language_info": {
   "codemirror_mode": {
    "name": "ipython",
    "version": 3
   },
   "file_extension": ".py",
   "mimetype": "text/x-python",
   "name": "python",
   "nbconvert_exporter": "python",
   "pygments_lexer": "ipython3",
   "version": "3.10.7"
  },
  "orig_nbformat": 4,
  "vscode": {
   "interpreter": {
    "hash": "118d2d70b9837ec74e99cd8e271bd7c1e24309015268c38b027840ab45e80ec0"
   }
  }
 },
 "nbformat": 4,
 "nbformat_minor": 2
}
