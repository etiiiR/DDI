{
 "cells": [
  {
   "cell_type": "code",
   "execution_count": 46,
   "metadata": {},
   "outputs": [
    {
     "name": "stdout",
     "output_type": "stream",
     "text": [
      "Defaulting to user installation because normal site-packages is not writeable\n",
      "Requirement already satisfied: aioarango in c:\\users\\super\\appdata\\roaming\\python\\python310\\site-packages (1.0.0)\n",
      "Requirement already satisfied: PyJWT<3.0.0,>=2.1.0 in c:\\users\\super\\appdata\\roaming\\python\\python310\\site-packages (from aioarango) (2.6.0)\n",
      "Requirement already satisfied: requests-toolbelt<0.10.0,>=0.9.1 in c:\\users\\super\\appdata\\roaming\\python\\python310\\site-packages (from aioarango) (0.9.1)\n",
      "Requirement already satisfied: httpx<0.19.0,>=0.18.2 in c:\\users\\super\\appdata\\roaming\\python\\python310\\site-packages (from aioarango) (0.18.2)\n",
      "Requirement already satisfied: rfc3986[idna2008]<2,>=1.3 in c:\\users\\super\\appdata\\roaming\\python\\python310\\site-packages (from httpx<0.19.0,>=0.18.2->aioarango) (1.5.0)\n",
      "Requirement already satisfied: httpcore<0.14.0,>=0.13.3 in c:\\users\\super\\appdata\\roaming\\python\\python310\\site-packages (from httpx<0.19.0,>=0.18.2->aioarango) (0.13.7)\n",
      "Requirement already satisfied: sniffio in c:\\users\\super\\appdata\\roaming\\python\\python310\\site-packages (from httpx<0.19.0,>=0.18.2->aioarango) (1.3.0)\n",
      "Requirement already satisfied: certifi in c:\\users\\super\\appdata\\roaming\\python\\python310\\site-packages (from httpx<0.19.0,>=0.18.2->aioarango) (2022.9.24)\n",
      "Requirement already satisfied: anyio==3.* in c:\\users\\super\\appdata\\roaming\\python\\python310\\site-packages (from httpcore<0.14.0,>=0.13.3->httpx<0.19.0,>=0.18.2->aioarango) (3.6.2)\n",
      "Requirement already satisfied: h11<0.13,>=0.11 in c:\\users\\super\\appdata\\roaming\\python\\python310\\site-packages (from httpcore<0.14.0,>=0.13.3->httpx<0.19.0,>=0.18.2->aioarango) (0.12.0)\n",
      "Requirement already satisfied: idna>=2.8 in c:\\users\\super\\appdata\\roaming\\python\\python310\\site-packages (from anyio==3.*->httpcore<0.14.0,>=0.13.3->httpx<0.19.0,>=0.18.2->aioarango) (3.4)\n",
      "Requirement already satisfied: requests<3.0.0,>=2.0.1 in c:\\users\\super\\appdata\\roaming\\python\\python310\\site-packages (from requests-toolbelt<0.10.0,>=0.9.1->aioarango) (2.27.1)\n",
      "Requirement already satisfied: charset-normalizer~=2.0.0 in c:\\users\\super\\appdata\\roaming\\python\\python310\\site-packages (from requests<3.0.0,>=2.0.1->requests-toolbelt<0.10.0,>=0.9.1->aioarango) (2.0.12)\n",
      "Requirement already satisfied: urllib3<1.27,>=1.21.1 in c:\\users\\super\\appdata\\roaming\\python\\python310\\site-packages (from requests<3.0.0,>=2.0.1->requests-toolbelt<0.10.0,>=0.9.1->aioarango) (1.26.13)\n",
      "Note: you may need to restart the kernel to use updated packages.\n"
     ]
    },
    {
     "name": "stderr",
     "output_type": "stream",
     "text": [
      "WARNING: You are using pip version 21.2.3; however, version 22.3.1 is available.\n",
      "You should consider upgrading via the 'c:\\Program Files\\Python310\\python.exe -m pip install --upgrade pip' command.\n"
     ]
    },
    {
     "name": "stdout",
     "output_type": "stream",
     "text": [
      "Defaulting to user installation because normal site-packages is not writeable\n",
      "Requirement already satisfied: python-dotenv in c:\\users\\super\\appdata\\roaming\\python\\python310\\site-packages (0.21.0)\n",
      "Note: you may need to restart the kernel to use updated packages.\n"
     ]
    },
    {
     "name": "stderr",
     "output_type": "stream",
     "text": [
      "WARNING: You are using pip version 21.2.3; however, version 22.3.1 is available.\n",
      "You should consider upgrading via the 'c:\\Program Files\\Python310\\python.exe -m pip install --upgrade pip' command.\n"
     ]
    },
    {
     "name": "stdout",
     "output_type": "stream",
     "text": [
      "Defaulting to user installation because normal site-packages is not writeable\n",
      "Requirement already satisfied: pandas in c:\\users\\super\\appdata\\roaming\\python\\python310\\site-packages (1.5.0)\n",
      "Requirement already satisfied: numpy>=1.21.0 in c:\\users\\super\\appdata\\roaming\\python\\python310\\site-packages (from pandas) (1.22.4)\n",
      "Requirement already satisfied: pytz>=2020.1 in c:\\users\\super\\appdata\\roaming\\python\\python310\\site-packages (from pandas) (2022.6)\n",
      "Requirement already satisfied: python-dateutil>=2.8.1 in c:\\users\\super\\appdata\\roaming\\python\\python310\\site-packages (from pandas) (2.8.2)\n",
      "Requirement already satisfied: six>=1.5 in c:\\users\\super\\appdata\\roaming\\python\\python310\\site-packages (from python-dateutil>=2.8.1->pandas) (1.16.0)\n",
      "Note: you may need to restart the kernel to use updated packages.\n"
     ]
    },
    {
     "name": "stderr",
     "output_type": "stream",
     "text": [
      "WARNING: You are using pip version 21.2.3; however, version 22.3.1 is available.\n",
      "You should consider upgrading via the 'c:\\Program Files\\Python310\\python.exe -m pip install --upgrade pip' command.\n"
     ]
    }
   ],
   "source": [
    "%pip install aioarango\n",
    "%pip install python-dotenv\n",
    "%pip install pandas"
   ]
  },
  {
   "cell_type": "code",
   "execution_count": 47,
   "metadata": {},
   "outputs": [
    {
     "name": "stdout",
     "output_type": "stream",
     "text": [
      "DDI2\n",
      "Welcome12\n",
      "DDI_MC2\n"
     ]
    },
    {
     "name": "stderr",
     "output_type": "stream",
     "text": [
      "C:\\Users\\super\\AppData\\Roaming\\Python\\Python310\\site-packages\\httpx\\_client.py:1978: UserWarning: Unclosed <httpx.AsyncClient object at 0x00000250712B60E0>. See https://www.python-httpx.org/async/#opening-and-closing-clients for details.\n",
      "  warnings.warn(\n"
     ]
    }
   ],
   "source": [
    "from aioarango import ArangoClient\n",
    "import os\n",
    "from dotenv import load_dotenv\n",
    "from aioarango import errno, DocumentInsertError\n",
    "from pandas import read_json\n",
    "\n",
    "load_dotenv()\n",
    "\n",
    "username_arango = os.getenv('arango_username')\n",
    "password_arango = os.getenv('arango_password')\n",
    "database_arango = os.getenv('arango_database')\n",
    "sys_username_arango = os.getenv('sys_username_arango')\n",
    "sys_password_arango = os.getenv('sys_password_arango')\n",
    "\n",
    "client = ArangoClient(hosts=\"https://arangodb.roulet.dev\")\n",
    "\n",
    "# Connect to \"_system\" database as root user.\n",
    "sys_db = await client.db(\"_system\", username=str(sys_username_arango), password=str(sys_password_arango))\n",
    "\n",
    "# Create a new database named \"DDI_MC2\".\n",
    "try:\n",
    "    await sys_db.create_database(\"DDI_MC2\")\n",
    "except Exception as exc:\n",
    "    if (exc.error_code == errno.DUPLICATE_NAME):\n",
    "        print(\"Database already exists\")\n",
    "    else:\n",
    "        print(exc)\n",
    "\n",
    "try: \n",
    "    await sys_db.create_user(username=str(username_arango), password=str(password_arango), active=True, )\n",
    "except Exception as exc:\n",
    "    if (exc.error_code == errno.DUPLICATE_NAME):\n",
    "        print(\"User already exists on DB\")\n",
    "    else:\n",
    "        print(exc)\n",
    "        \n",
    "# give the user the right to create collections and documents\n",
    "try:\n",
    "    await sys_db.update_permission(username=str(username_arango), database='DDI_MC2', permission='rw')\n",
    "except Exception as exc:\n",
    "    if (exc.error_code == errno.DUPLICATE_NAME):\n",
    "        print(\"User already has the right to create collections and documents\")\n",
    "    else:\n",
    "        print(exc)\n",
    "# here you have to create a new DB user and give him the right to create collections and documents\n",
    "# if you dont have a new user it will give you an error\n"
   ]
  },
  {
   "cell_type": "code",
   "execution_count": 48,
   "metadata": {},
   "outputs": [
    {
     "name": "stderr",
     "output_type": "stream",
     "text": [
      "C:\\Users\\super\\AppData\\Roaming\\Python\\Python310\\site-packages\\httpx\\_client.py:1978: UserWarning: Unclosed <httpx.AsyncClient object at 0x000002506E18E590>. See https://www.python-httpx.org/async/#opening-and-closing-clients for details.\n",
      "  warnings.warn(\n"
     ]
    }
   ],
   "source": [
    "# ATTENTION:!!!! here you have to create a new DB user and give him the right to create collections and documents\n",
    "# if you dont have a new user it will give you an error\n",
    "\n",
    "#############################################################################################################\n",
    "# Connect to \"test\" database as root user.\n",
    "db = await client.db(str(database_arango), username=str(username_arango), password=str(password_arango))\n",
    "\n",
    "# Create a new collection named \"students\".\n",
    "try:\n",
    "    users = await db.create_collection(\"users\")\n",
    "except Exception as e:\n",
    "    if (e.error_code == errno.DUPLICATE_NAME):\n",
    "        print(\"Collection already exists users\")\n",
    "        users = db.collection(\"users\")\n",
    "    else:\n",
    "        print(e)\n",
    "\n",
    "\n",
    "try:\n",
    "    courses = await db.create_collection(\"courses\")\n",
    "except Exception as e:\n",
    "    if (e.error_code == errno.DUPLICATE_NAME):\n",
    "        print(\"Collection already exists courses\")\n",
    "        courses = db.collection(\"courses\")\n",
    "    else:\n",
    "        print(e)\n",
    "\n",
    "\n",
    "\n",
    "\n",
    "# read json file to dict\n",
    "import json\n",
    "with open('../customers.json') as json_file:\n",
    "     customer_model = json.load(json_file)\n",
    "\n",
    "\n",
    "for u in customer_model:\n",
    "    try:\n",
    "        await users.insert(document=u, sync=False, return_new=True, silent=True, overwrite=True)\n",
    "    except Exception as e:\n",
    "        print(e)\n",
    "        \n"
   ]
  },
  {
   "cell_type": "code",
   "execution_count": null,
   "metadata": {},
   "outputs": [],
   "source": [
    "try:\n",
    "    books = await db.create_collection(\"books\")\n",
    "except Exception as e:\n",
    "    if (e.error_code == errno.DUPLICATE_NAME):\n",
    "        print(\"Collection already exists books\")\n",
    "        books = db.collection(\"books\")\n",
    "\n",
    "\n",
    "with open('../books.json') as json_file:\n",
    "     books_model = json.load(json_file)\n",
    "\n",
    "for b in books_model:\n",
    "    try:\n",
    "        await books.insert(document=b, sync=True, return_new=True, silent=True, overwrite=True)\n",
    "    except Exception as e:\n",
    "        print(e)\n"
   ]
  },
  {
   "cell_type": "code",
   "execution_count": null,
   "metadata": {},
   "outputs": [],
   "source": [
    "# Create a new graph named \"school\".\n",
    "graph = await db.create_graph(\"course\")\n",
    "\n",
    "# Create vertex collections for the graph.\n",
    "courses = await graph.create_vertex_collection(\"courses\")\n",
    "\n",
    "# Create an edge definition (relation) for the graph.\n",
    "edges = await graph.create_edge_definition(\n",
    "    edge_collection=\"register\",\n",
    "    from_vertex_collections=[\"books\"],\n",
    "    to_vertex_collections=[\"courses\"]\n",
    ")\n",
    "\n",
    "# Insert vertex documents into \"students\" (from) vertex collection.\n",
    "\n",
    "# Insert vertex documents into \"lectures\" (to) vertex collection.\n",
    "await courses.insert({\"_key\": \"GAN\", \"title\": \"Calculus\"})\n",
    "await courses.insert({\"_key\": \"WER\", \"title\": \"Statistics\"})\n",
    "await courses.insert({\"_key\": \"ALM\", \"title\": \"Algorithms\"})\n",
    "await courses.insert({\"_key\": \"DDI\", \"title\": \"Datenbank Design\"})\n",
    "await courses.insert({\"_key\": \"LLR\", \"title\": \"Lineare Regression\"})\n",
    "await courses.insert({\"_key\": \"GDB\", \"title\": \"Grundlagen Datenbanken\"})\n",
    "\n",
    "# Insert edge documents into \"register\" edge collection.\n",
    "await edges.insert({\"_to\": \"books/5063474\", \"_from\": \"courses/DDI\"})\n",
    "await edges.insert({\"_to\": \"books/5063480\", \"_from\": \"courses/DDI\"})\n",
    "await edges.insert({\"_to\": \"books/5063483\", \"_from\": \"courses/DDI\"})\n",
    "\n",
    "\n",
    "await edges.insert({\"_to\": \"books/5063474\", \"_from\": \"courses/GDB\"})\n",
    "await edges.insert({\"_to\": \"books/5063480\", \"_from\": \"courses/GDB\"})\n",
    "await edges.insert({\"_to\": \"books/5063483\", \"_from\": \"courses/GDB\"})\n",
    "\n",
    "await edges.insert({\"_to\": \"books/5063474\", \"_from\": \"courses/LLR\"})\n",
    "await edges.insert({\"_to\": \"books/5063480\", \"_from\": \"courses/LLR\"})\n",
    "await edges.insert({\"_to\": \"books/5063535\", \"_from\": \"courses/LLR\"})\n",
    "\n",
    "await edges.insert({\"_to\": \"books/5063529\", \"_from\": \"courses/ALM\"})\n",
    "await edges.insert({\"_to\": \"books/5063527\", \"_from\": \"courses/ALM\"})\n",
    "await edges.insert({\"_to\": \"books/5063539\", \"_from\": \"courses/ALM\"})\n",
    "\n",
    "\n",
    "# Traverse the graph in outbound direction, breadth-first.\n",
    "result = await graph.traverse(\n",
    "    start_vertex=\"books/5063480\",\n",
    "    direction=\"outbound\",\n",
    "    strategy=\"breadthfirst\"\n",
    ")"
   ]
  },
  {
   "cell_type": "code",
   "execution_count": null,
   "metadata": {},
   "outputs": [],
   "source": [
    "# Create a new graph named \"school\".\n",
    "graph = await db.create_graph(\"orders\")\n",
    "\n",
    "\n",
    "#Create an edge definition (relation) for the graph.\n",
    "edges = await graph.create_edge_definition(\n",
    "    edge_collection=\"order_register\",\n",
    "    from_vertex_collections=[\"users\"],\n",
    "    to_vertex_collections=[\"books\"]\n",
    ")\n",
    "\n",
    "# Insert vertex documents into \"students\" (from) vertex collection.\n",
    "\n",
    "# Insert edge documents into \"register\" edge collection.\n",
    "await edges.insert({\"_to\": \"users/3121802\", \"_from\": \"books/5063475\", \"order_date\": \"2020-01-01\", \"order_status\": \"open\", \"order_amount\": 23.99})\n",
    "await edges.insert({\"_to\": \"users/3121802\", \"_from\": \"books/5063476\", \"order_date\": \"2020-01-01\", \"order_status\": \"open\", \"order_amount\": 25.99})\n",
    "await edges.insert({\"_to\": \"users/3121802\", \"_from\": \"books/5063477\", \"order_date\": \"2020-01-01\", \"order_status\": \"open\", \"order_amount\": 23.99})\n",
    "await edges.insert({\"_to\": \"users/3121802\", \"_from\": \"books/5063478\", \"order_date\": \"2020-01-01\", \"order_status\": \"open\", \"order_amount\": 24.99})\n",
    "await edges.insert({\"_to\": \"users/3121802\", \"_from\": \"books/5063479\", \"order_date\": \"2020-01-01\", \"order_status\": \"open\", \"order_amount\": 23.99})\n",
    "await edges.insert({\"_to\": \"users/3121802\", \"_from\": \"books/5063480\", \"order_date\": \"2020-01-01\", \"order_status\": \"open\", \"order_amount\": 3.99})\n",
    "await edges.insert({\"_to\": \"users/3121802\", \"_from\": \"books/5063481\", \"order_date\": \"2020-01-01\", \"order_status\": \"open\", \"order_amount\": 23.99})\n",
    "await edges.insert({\"_to\": \"users/3121802\", \"_from\": \"books/5063482\", \"order_date\": \"2020-01-01\", \"order_status\": \"open\", \"order_amount\": 26.99})\n",
    "await edges.insert({\"_to\": \"users/3121802\", \"_from\": \"books/5063483\", \"order_date\": \"2020-01-01\", \"order_status\": \"open\", \"order_amount\": 27.99})\n",
    "\n",
    "\n",
    "await edges.insert({\"_to\": \"users/3121808\", \"_from\": \"books/5063475\", \"order_date\": \"2020-01-03\", \"order_status\": \"open\", \"order_amount\": 23.99})\n",
    "await edges.insert({\"_to\": \"users/3121808\", \"_from\": \"books/5063504\",\"order_date\": \"2020-05-21\", \"order_status\": \"open\", \"order_amount\": 26.99})\n",
    "await edges.insert({\"_to\": \"users/3121808\", \"_from\": \"books/5063477\",\"order_date\": \"2020-02-01\", \"order_status\": \"open\", \"order_amount\": 23.99})\n",
    "await edges.insert({\"_to\": \"users/3121808\", \"_from\": \"books/5063478\",\"order_date\": \"2020-01-01\", \"order_status\": \"open\", \"order_amount\": 25.99})\n",
    "await edges.insert({\"_to\": \"users/3121808\", \"_from\": \"books/5063479\",\"order_date\": \"2020-01-01\", \"order_status\": \"open\", \"order_amount\": 23.99})\n",
    "await edges.insert({\"_to\": \"users/3121808\", \"_from\": \"books/5063506\",\"order_date\": \"2020-01-01\", \"order_status\": \"open\", \"order_amount\": 26.99})\n",
    "await edges.insert({\"_to\": \"users/3121808\", \"_from\": \"books/5063481\",\"order_date\": \"2020-04-31\", \"order_status\": \"open\", \"order_amount\": 23.99})\n",
    "await edges.insert({\"_to\": \"users/3121808\", \"_from\": \"books/5063507\",\"order_date\": \"2020-01-01\", \"order_status\": \"open\", \"order_amount\": 277.99})\n",
    "await edges.insert({\"_to\": \"users/3121808\", \"_from\": \"books/5063483\",\"order_date\": \"2020-03-01\", \"order_status\": \"open\", \"order_amount\": 28.99})\n",
    "\n",
    "\n",
    "await edges.insert({\"_to\": \"users/3121837\", \"_from\": \"books/5063475\",\"order_date\": \"2020-02-05\", \"order_status\": \"open\", \"order_amount\": 23.99})\n",
    "await edges.insert({\"_to\": \"users/3121837\", \"_from\": \"books/5063476\",\"order_date\": \"2020-03-01\", \"order_status\": \"open\", \"order_amount\": 25.99})\n",
    "await edges.insert({\"_to\": \"users/3121837\", \"_from\": \"books/5063477\",\"order_date\": \"2020-01-02\", \"order_status\": \"open\", \"order_amount\": 23.99})\n",
    "await edges.insert({\"_to\": \"users/3121837\", \"_from\": \"books/5063501\",\"order_date\": \"2020-04-01\", \"order_status\": \"open\", \"order_amount\": 2.99})\n",
    "await edges.insert({\"_to\": \"users/3121837\", \"_from\": \"books/5063479\",\"order_date\": \"2020-01-03\", \"order_status\": \"open\", \"order_amount\": 23.99})\n",
    "await edges.insert({\"_to\": \"users/3121837\", \"_from\": \"books/5063504\",\"order_date\": \"2020-01-01\", \"order_status\": \"open\", \"order_amount\": 25.99})\n",
    "await edges.insert({\"_to\": \"users/3121837\", \"_from\": \"books/5063481\",\"order_date\": \"2020-05-01\", \"order_status\": \"open\", \"order_amount\": 23.99})\n",
    "await edges.insert({\"_to\": \"users/3121837\", \"_from\": \"books/5063503\",\"order_date\": \"2020-01-01\", \"order_status\": \"open\", \"order_amount\": 3.99})\n",
    "await edges.insert({\"_to\": \"users/3121837\", \"_from\": \"books/5063483\",\"order_date\": \"2020-02-01\", \"order_status\": \"open\", \"order_amount\": 23.99})\n",
    "\n",
    "# Traverse the graph in outbound direction, breadth-first.\n",
    "result = await graph.traverse(\n",
    "    start_vertex=\"users/3121802\",\n",
    "    direction=\"outbound\",\n",
    "    strategy=\"breadthfirst\"\n",
    ")"
   ]
  },
  {
   "cell_type": "code",
   "execution_count": null,
   "metadata": {},
   "outputs": [],
   "source": [
    "#cursor = await db.aql.execute(\"FOR u IN users RETURN u\")\n",
    "#users = [document[\"name\"] async for document in cursor]\n",
    "#print(users)"
   ]
  }
 ],
 "metadata": {
  "kernelspec": {
   "display_name": "Python 3",
   "language": "python",
   "name": "python3"
  },
  "language_info": {
   "codemirror_mode": {
    "name": "ipython",
    "version": 3
   },
   "file_extension": ".py",
   "mimetype": "text/x-python",
   "name": "python",
   "nbconvert_exporter": "python",
   "pygments_lexer": "ipython3",
   "version": "3.10.0"
  },
  "orig_nbformat": 4,
  "vscode": {
   "interpreter": {
    "hash": "26de051ba29f2982a8de78e945f0abaf191376122a1563185a90213a26c5da77"
   }
  }
 },
 "nbformat": 4,
 "nbformat_minor": 2
}
