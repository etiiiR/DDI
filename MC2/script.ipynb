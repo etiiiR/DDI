{
 "cells": [
  {
   "cell_type": "code",
   "execution_count": 4,
   "metadata": {},
   "outputs": [
    {
     "name": "stdout",
     "output_type": "stream",
     "text": [
      "Requirement already satisfied: aioarango in c:\\users\\super\\appdata\\local\\programs\\python\\python310\\lib\\site-packages (1.0.0)\n",
      "Requirement already satisfied: PyJWT<3.0.0,>=2.1.0 in c:\\users\\super\\appdata\\local\\programs\\python\\python310\\lib\\site-packages (from aioarango) (2.6.0)\n",
      "Requirement already satisfied: requests-toolbelt<0.10.0,>=0.9.1 in c:\\users\\super\\appdata\\local\\programs\\python\\python310\\lib\\site-packages (from aioarango) (0.9.1)\n",
      "Requirement already satisfied: httpx<0.19.0,>=0.18.2 in c:\\users\\super\\appdata\\local\\programs\\python\\python310\\lib\\site-packages (from aioarango) (0.18.2)\n",
      "Requirement already satisfied: sniffio in c:\\users\\super\\appdata\\local\\programs\\python\\python310\\lib\\site-packages (from httpx<0.19.0,>=0.18.2->aioarango) (1.3.0)\n",
      "Requirement already satisfied: rfc3986[idna2008]<2,>=1.3 in c:\\users\\super\\appdata\\local\\programs\\python\\python310\\lib\\site-packages (from httpx<0.19.0,>=0.18.2->aioarango) (1.5.0)\n",
      "Requirement already satisfied: certifi in c:\\users\\super\\appdata\\local\\programs\\python\\python310\\lib\\site-packages (from httpx<0.19.0,>=0.18.2->aioarango) (2022.6.15)\n",
      "Requirement already satisfied: httpcore<0.14.0,>=0.13.3 in c:\\users\\super\\appdata\\local\\programs\\python\\python310\\lib\\site-packages (from httpx<0.19.0,>=0.18.2->aioarango) (0.13.7)\n",
      "Requirement already satisfied: requests<3.0.0,>=2.0.1 in c:\\users\\super\\appdata\\local\\programs\\python\\python310\\lib\\site-packages (from requests-toolbelt<0.10.0,>=0.9.1->aioarango) (2.27.1)\n",
      "Requirement already satisfied: h11<0.13,>=0.11 in c:\\users\\super\\appdata\\local\\programs\\python\\python310\\lib\\site-packages (from httpcore<0.14.0,>=0.13.3->httpx<0.19.0,>=0.18.2->aioarango) (0.12.0)\n",
      "Requirement already satisfied: anyio==3.* in c:\\users\\super\\appdata\\local\\programs\\python\\python310\\lib\\site-packages (from httpcore<0.14.0,>=0.13.3->httpx<0.19.0,>=0.18.2->aioarango) (3.6.2)\n",
      "Requirement already satisfied: idna>=2.8 in c:\\users\\super\\appdata\\local\\programs\\python\\python310\\lib\\site-packages (from anyio==3.*->httpcore<0.14.0,>=0.13.3->httpx<0.19.0,>=0.18.2->aioarango) (3.3)\n",
      "Requirement already satisfied: charset-normalizer~=2.0.0 in c:\\users\\super\\appdata\\local\\programs\\python\\python310\\lib\\site-packages (from requests<3.0.0,>=2.0.1->requests-toolbelt<0.10.0,>=0.9.1->aioarango) (2.0.12)\n",
      "Requirement already satisfied: urllib3<1.27,>=1.21.1 in c:\\users\\super\\appdata\\local\\programs\\python\\python310\\lib\\site-packages (from requests<3.0.0,>=2.0.1->requests-toolbelt<0.10.0,>=0.9.1->aioarango) (1.26.11)\n",
      "Note: you may need to restart the kernel to use updated packages.\n"
     ]
    },
    {
     "name": "stderr",
     "output_type": "stream",
     "text": [
      "\n",
      "[notice] A new release of pip available: 22.2.2 -> 22.3.1\n",
      "[notice] To update, run: python.exe -m pip install --upgrade pip\n"
     ]
    },
    {
     "name": "stdout",
     "output_type": "stream",
     "text": [
      "Requirement already satisfied: python-dotenv in c:\\users\\super\\appdata\\local\\programs\\python\\python310\\lib\\site-packages (0.21.0)\n",
      "Note: you may need to restart the kernel to use updated packages.\n"
     ]
    },
    {
     "name": "stderr",
     "output_type": "stream",
     "text": [
      "\n",
      "[notice] A new release of pip available: 22.2.2 -> 22.3.1\n",
      "[notice] To update, run: python.exe -m pip install --upgrade pip\n"
     ]
    }
   ],
   "source": [
    "%pip install aioarango\n",
    "%pip install python-dotenv"
   ]
  },
  {
   "cell_type": "code",
   "execution_count": 30,
   "metadata": {},
   "outputs": [
    {
     "name": "stdout",
     "output_type": "stream",
     "text": [
      "DDI2\n",
      "Welcome12\n",
      "DDI_MC2\n",
      "[HTTP 409][ERR 1207] duplicate database name 'DDI_MC2'\n",
      "[HTTP 409][ERR 1207] duplicate name\n",
      "[HTTP 409][ERR 1207] duplicate name\n",
      "[HTTP 409][ERR 1207] duplicate name\n",
      "[HTTP 409][ERR 1210] unique constraint violated - in index idx_1749304829456416768 of type hash over 'name'; conflicting key: 3008891\n"
     ]
    },
    {
     "name": "stderr",
     "output_type": "stream",
     "text": [
      "c:\\Users\\super\\AppData\\Local\\Programs\\Python\\Python310\\lib\\site-packages\\httpx\\_client.py:1978: UserWarning: Unclosed <httpx.AsyncClient object at 0x00000203603BD090>. See https://www.python-httpx.org/async/#opening-and-closing-clients for details.\n",
      "  warnings.warn(\n"
     ]
    }
   ],
   "source": [
    "from aioarango import ArangoClient\n",
    "import os\n",
    "from dotenv import load_dotenv\n",
    "\n",
    "load_dotenv()\n",
    "\n",
    "username_arango = os.getenv('arango_username')\n",
    "password_arango = os.getenv('arango_password')\n",
    "database_arango = os.getenv('arango_database')\n",
    "sys_username_arango = os.getenv('sys_username_arango')\n",
    "sys_password_arango = os.getenv('sys_password_arango')\n",
    "\n",
    "print(username_arango)\n",
    "print(password_arango)\n",
    "print(database_arango)\n",
    "\n",
    "client = ArangoClient(hosts=\"https://arangodb.roulet.dev\")\n",
    "\n",
    "# Connect to \"_system\" database as root user.\n",
    "sys_db = await client.db(\"_system\", username=str(sys_username_arango), password=str(sys_password_arango))\n",
    "\n",
    "# Create a new database named \"DDI_MC2\".\n",
    "try:\n",
    "  await sys_db.create_database(\"DDI_MC2\")\n",
    "except Exception as e:\n",
    "  print(e)\n",
    "\n",
    "# Connect to \"test\" database as root user.\n",
    "db = await client.db(str(database_arango), username=str(username_arango), password=str(password_arango))\n",
    "\n",
    "# Create a new collection named \"students\".\n",
    "try:\n",
    "  users = await db.create_collection(\"users\")\n",
    "except Exception as e:\n",
    "  print(e)\n",
    "  \n",
    "try:\n",
    "  jwt_tokens = await db.create_collection(\"jwt_tokens\")\n",
    "except Exception as e:\n",
    "  print(e)\n",
    "  \n",
    "try:\n",
    "  movies = await db.create_collection(\"movies\")\n",
    "except Exception as e:\n",
    "  print(e)\n",
    "\n",
    "await users.add_hash_index(fields=[\"name\"], unique=True)\n",
    "\n",
    "user = [{\"name\": \"John\", \"age\": 25}, {\"name\": \"Jane\", \"age\": 30}, {\"name\": \"Jack\", \"age\": 20}, {\"name\": \"Jill\", \"age\": 20}, {\"name\": \"Jenny\", \"age\": 20}, {\"name\": \"Jenny\", \"age\": 20}]\n",
    "\n",
    "for u in user:\n",
    "  try:\n",
    "    await users.insert(u)\n",
    "  except Exception as e:\n",
    "    print(e)\n",
    "\n",
    "\n",
    "\n",
    "  "
   ]
  },
  {
   "cell_type": "code",
   "execution_count": null,
   "metadata": {},
   "outputs": [],
   "source": [
    "cursor = await db.aql.execute(\"FOR u IN users RETURN u\")\n",
    "users = [document[\"name\"] async for document in cursor]"
   ]
  }
 ],
 "metadata": {
  "kernelspec": {
   "display_name": "Python 3",
   "language": "python",
   "name": "python3"
  },
  "language_info": {
   "codemirror_mode": {
    "name": "ipython",
    "version": 3
   },
   "file_extension": ".py",
   "mimetype": "text/x-python",
   "name": "python",
   "nbconvert_exporter": "python",
   "pygments_lexer": "ipython3",
   "version": "3.10.7"
  },
  "orig_nbformat": 4,
  "vscode": {
   "interpreter": {
    "hash": "118d2d70b9837ec74e99cd8e271bd7c1e24309015268c38b027840ab45e80ec0"
   }
  }
 },
 "nbformat": 4,
 "nbformat_minor": 2
}
